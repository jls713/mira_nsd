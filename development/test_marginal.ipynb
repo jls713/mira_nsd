{
 "cells": [
  {
   "cell_type": "code",
   "execution_count": 1,
   "metadata": {},
   "outputs": [
    {
     "name": "stdout",
     "output_type": "stream",
     "text": [
      "reading Portail bar...\n",
      "finished\n"
     ]
    }
   ],
   "source": [
    "from bar_model_interpolant import Portail_interp\n",
    "bar_model = Portail_interp(N=4, include_distance=True)"
   ]
  },
  {
   "cell_type": "code",
   "execution_count": 2,
   "metadata": {},
   "outputs": [],
   "source": [
    "from selection_function import selection_function\n",
    "SF = selection_function(data_file='selection_function.csv')"
   ]
  },
  {
   "cell_type": "code",
   "execution_count": 7,
   "metadata": {},
   "outputs": [
    {
     "data": {
      "text/plain": [
       "[<matplotlib.lines.Line2D at 0x7f597485d870>]"
      ]
     },
     "execution_count": 7,
     "metadata": {},
     "output_type": "execute_result"
    },
    {
     "data": {
      "image/png": "[encoded data removed]",
      "text/plain": [
       "<Figure size 432x288 with 1 Axes>"
      ]
     },
     "metadata": {
      "needs_background": "light"
     },
     "output_type": "display_data"
    }
   ],
   "source": [
    "import matplotlib.pyplot as plt\n",
    "plt.hist(bar_model.lbr[:,2][bar_model.fltr_fn(0.0,0.0)],bins=50,\n",
    "         density=True,weights=(SF.S(0.,0.,bar_model.lbr[:,2],500.)*bar_model.m)[bar_model.fltr_fn(0.0,0.0)]);\n",
    "import numpy as np\n",
    "xx=np.linspace(1,16,1000)\n",
    "plt.plot(xx, SF.S(0.,0.,xx,500.)*bar_model.density(np.zeros_like(xx),np.zeros_like(xx),xx)/50.,lw=3)"
   ]
  },
  {
   "cell_type": "code",
   "execution_count": 10,
   "metadata": {},
   "outputs": [
    {
     "name": "stdout",
     "output_type": "stream",
     "text": [
      "0.1298032262285943\n"
     ]
    }
   ],
   "source": [
    "Nsamples=7000000\n",
    "Vcoords = np.vstack([np.random.normal(8.275,4.,Nsamples),np.random.normal(-30,2.,Nsamples),np.random.normal(0,2.,Nsamples)]).T\n",
    "print(np.sum(bar_model.evaluate(np.zeros(len(Vcoords)),np.zeros(len(Vcoords)),Vcoords)/(1./np.sqrt(2.*np.pi*4.**2)*np.exp(-(Vcoords[:,0]-8.275)**2/(2.*4.**2))))/Nsamples)"
   ]
  },
  {
   "cell_type": "code",
   "execution_count": 9,
   "metadata": {},
   "outputs": [
    {
     "name": "stdout",
     "output_type": "stream",
     "text": [
      "0.12888076536832163\n"
     ]
    }
   ],
   "source": [
    "Vcoords = np.vstack([np.tile(np.linspace(0.,17.,600),500),np.repeat(np.random.normal(-30,2.,500),600),np.repeat(np.random.normal(0,2.,500),600)]).T\n",
    "print(np.sum(bar_model.evaluate(np.zeros(len(Vcoords)),np.zeros(len(Vcoords)),Vcoords))*17./600./500.)"
   ]
  },
  {
   "cell_type": "code",
   "execution_count": 12,
   "metadata": {},
   "outputs": [
    {
     "data": {
      "text/plain": [
       "14"
      ]
     },
     "execution_count": 12,
     "metadata": {},
     "output_type": "execute_result"
    }
   ],
   "source": [
    "xx = np.random.normal(8.275,3.,5000)\n",
    "np.count_nonzero(xx<0.)"
   ]
  }
 ],
 "metadata": {
  "kernelspec": {
   "display_name": "chemevo",
   "language": "python",
   "name": "python3"
  },
  "language_info": {
   "codemirror_mode": {
    "name": "ipython",
    "version": 3
   },
   "file_extension": ".py",
   "mimetype": "text/x-python",
   "name": "python",
   "nbconvert_exporter": "python",
   "pygments_lexer": "ipython3",
   "version": "3.10.5"
  },
  "orig_nbformat": 4
 },
 "nbformat": 4,
 "nbformat_minor": 2
}
