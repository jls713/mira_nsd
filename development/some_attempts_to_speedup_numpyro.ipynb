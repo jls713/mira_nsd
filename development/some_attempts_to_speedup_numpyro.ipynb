{
 "cells": [
  {
   "cell_type": "code",
   "execution_count": 1,
   "metadata": {},
   "outputs": [],
   "source": [
    "%load_ext autoreload\n",
    "%autoreload 2\n",
    "\n",
    "import os\n",
    "os.environ[\"XLA_PYTHON_CLIENT_PREALLOCATE\"] = \"false\"\n",
    "import numpyro\n",
    "# numpyro.enable_x64(True)\n",
    "numpyro.set_platform(\"gpu\")"
   ]
  },
  {
   "cell_type": "code",
   "execution_count": 32,
   "metadata": {},
   "outputs": [
    {
     "name": "stderr",
     "output_type": "stream",
     "text": [
      "sample: 100%|█████████████████████████████████████████████████████████████████████████████████████████████████████████████████████████████████████████████| 400/400 [01:10<00:00,  5.68it/s]\n"
     ]
    }
   ],
   "source": [
    "from numpyro_model import numpyro_model\n",
    "import jax\n",
    "import jax.numpy as jnp\n",
    "from functools import partial\n",
    "from jax_cosmo.scipy.interpolate import InterpolatedUnivariateSpline\n",
    "Nknots=5\n",
    "# @partial(jax.jit, static_argnums=(2,))\n",
    "\n",
    "X = {'x':jnp.ones(200),'y':jnp.linspace(0.,1.,200)}\n",
    "@jax.jit\n",
    "def logL_fn_TEST(X, y, k=jnp.linspace(0.,1.,Nknots)):\n",
    "    p = InterpolatedUnivariateSpline(k, y['y'])\n",
    "    return -((p(X['y'])-X['x'])**2)\n",
    "# logL_fn_TEST(X,{'y':jnp.ones(Nknots)}, jnp.linspace(0.,1.,Nknots))\n",
    "# @jax.jit\n",
    "def mod():\n",
    "    y = numpyro.sample('y', numpyro.distributions.Normal(0.,1.).expand([Nknots]))\n",
    "    # numpyro.sample('obs', numpyro.distributions.Normal(InterpolatedUnivariateSpline(jnp.linspace(0.,1.,Nknots), y)(X['y']),1.), obs=X['x'])\n",
    "    with numpyro.plate('data', len(X['x'])):\n",
    "        numpyro.factor('LL', logL_fn_TEST(X, {'y':y}, jnp.linspace(0.,1.,Nknots)))\n",
    "\n",
    "MMC=numpyro.infer.MCMC(numpyro.infer.NUTS(mod, max_tree_depth=10), \n",
    "                                       num_warmup=200, num_samples=200,\n",
    "                                       num_chains=4, chain_method=\"vectorized\")\n",
    "MMC.run(jax.random.PRNGKey(0))\n",
    "\n",
    "# n = numpyro_model(logL_fn_TEST, {'y':numpyro.distributions.HalfNormal(1.).expand([Nknots])}, {'x':jnp.ones(200),'y':jnp.linspace(0.,1.,200)}, \n",
    "# {'k':jnp.linspace(0.,1.,Nknots)}, log_prior_fn=None, expand_args=True)\n",
    "# n.run_mcmc(num_samples=200,num_warmup=200)"
   ]
  },
  {
   "cell_type": "code",
   "execution_count": 35,
   "metadata": {},
   "outputs": [
    {
     "data": {
      "image/png": "[encoded data removed]",
      "text/plain": [
       "<Figure size 432x288 with 1 Axes>"
      ]
     },
     "metadata": {
      "needs_background": "light"
     },
     "output_type": "display_data"
    }
   ],
   "source": [
    "import numpy as np\n",
    "plt.hist(np.array(MMC.get_samples()['y'][:,2]));"
   ]
  },
  {
   "cell_type": "code",
   "execution_count": 39,
   "metadata": {},
   "outputs": [
    {
     "name": "stderr",
     "output_type": "stream",
     "text": [
      "warmup:   0%|                                                                                              | 1/1500 [00:36<15:06:04, 36.27s/it, 1023 steps of size 1.44e+01. acc. prob=1.00]\n"
     ]
    },
    {
     "ename": "KeyboardInterrupt",
     "evalue": "",
     "output_type": "error",
     "traceback": [
      "\u001b[0;31m---------------------------------------------------------------------------\u001b[0m",
      "\u001b[0;31mKeyboardInterrupt\u001b[0m                         Traceback (most recent call last)",
      "\u001b[1;32m/home/jls/work/mira/mira_nsd/test.ipynb Cell 4\u001b[0m in \u001b[0;36m<cell line: 17>\u001b[0;34m()\u001b[0m\n\u001b[1;32m     <a href='vscode-notebook-cell://ssh-remote%2Bargo/home/jls/work/mira/mira_nsd/test.ipynb#W4sdnNjb2RlLXJlbW90ZQ%3D%3D?line=14'>15</a>\u001b[0m nuts_kernel \u001b[39m=\u001b[39m numpyro\u001b[39m.\u001b[39minfer\u001b[39m.\u001b[39mNUTS(compiled_model)\n\u001b[1;32m     <a href='vscode-notebook-cell://ssh-remote%2Bargo/home/jls/work/mira/mira_nsd/test.ipynb#W4sdnNjb2RlLXJlbW90ZQ%3D%3D?line=15'>16</a>\u001b[0m mcmc \u001b[39m=\u001b[39m numpyro\u001b[39m.\u001b[39minfer\u001b[39m.\u001b[39mMCMC(nuts_kernel, num_samples\u001b[39m=\u001b[39msamples, num_warmup\u001b[39m=\u001b[39mnum_warmup)\n\u001b[0;32m---> <a href='vscode-notebook-cell://ssh-remote%2Bargo/home/jls/work/mira/mira_nsd/test.ipynb#W4sdnNjb2RlLXJlbW90ZQ%3D%3D?line=16'>17</a>\u001b[0m mcmc\u001b[39m.\u001b[39;49mrun(jax\u001b[39m.\u001b[39;49mrandom\u001b[39m.\u001b[39;49mPRNGKey(\u001b[39m0\u001b[39;49m))\n",
      "File \u001b[0;32m~/miniconda3/envs/chemevo/lib/python3.10/site-packages/numpyro/infer/mcmc.py:594\u001b[0m, in \u001b[0;36mMCMC.run\u001b[0;34m(self, rng_key, extra_fields, init_params, *args, **kwargs)\u001b[0m\n\u001b[1;32m    592\u001b[0m map_args \u001b[39m=\u001b[39m (rng_key, init_state, init_params)\n\u001b[1;32m    593\u001b[0m \u001b[39mif\u001b[39;00m \u001b[39mself\u001b[39m\u001b[39m.\u001b[39mnum_chains \u001b[39m==\u001b[39m \u001b[39m1\u001b[39m:\n\u001b[0;32m--> 594\u001b[0m     states_flat, last_state \u001b[39m=\u001b[39m partial_map_fn(map_args)\n\u001b[1;32m    595\u001b[0m     states \u001b[39m=\u001b[39m tree_map(\u001b[39mlambda\u001b[39;00m x: x[jnp\u001b[39m.\u001b[39mnewaxis, \u001b[39m.\u001b[39m\u001b[39m.\u001b[39m\u001b[39m.\u001b[39m], states_flat)\n\u001b[1;32m    596\u001b[0m \u001b[39melse\u001b[39;00m:\n",
      "File \u001b[0;32m~/miniconda3/envs/chemevo/lib/python3.10/site-packages/numpyro/infer/mcmc.py:404\u001b[0m, in \u001b[0;36mMCMC._single_chain_mcmc\u001b[0;34m(self, init, args, kwargs, collect_fields)\u001b[0m\n\u001b[1;32m    398\u001b[0m collection_size \u001b[39m=\u001b[39m \u001b[39mself\u001b[39m\u001b[39m.\u001b[39m_collection_params[\u001b[39m\"\u001b[39m\u001b[39mcollection_size\u001b[39m\u001b[39m\"\u001b[39m]\n\u001b[1;32m    399\u001b[0m collection_size \u001b[39m=\u001b[39m (\n\u001b[1;32m    400\u001b[0m     collection_size\n\u001b[1;32m    401\u001b[0m     \u001b[39mif\u001b[39;00m collection_size \u001b[39mis\u001b[39;00m \u001b[39mNone\u001b[39;00m\n\u001b[1;32m    402\u001b[0m     \u001b[39melse\u001b[39;00m collection_size \u001b[39m/\u001b[39m\u001b[39m/\u001b[39m \u001b[39mself\u001b[39m\u001b[39m.\u001b[39mthinning\n\u001b[1;32m    403\u001b[0m )\n\u001b[0;32m--> 404\u001b[0m collect_vals \u001b[39m=\u001b[39m fori_collect(\n\u001b[1;32m    405\u001b[0m     lower_idx,\n\u001b[1;32m    406\u001b[0m     upper_idx,\n\u001b[1;32m    407\u001b[0m     sample_fn,\n\u001b[1;32m    408\u001b[0m     init_val,\n\u001b[1;32m    409\u001b[0m     transform\u001b[39m=\u001b[39;49m_collect_fn(collect_fields),\n\u001b[1;32m    410\u001b[0m     progbar\u001b[39m=\u001b[39;49m\u001b[39mself\u001b[39;49m\u001b[39m.\u001b[39;49mprogress_bar,\n\u001b[1;32m    411\u001b[0m     return_last_val\u001b[39m=\u001b[39;49m\u001b[39mTrue\u001b[39;49;00m,\n\u001b[1;32m    412\u001b[0m     thinning\u001b[39m=\u001b[39;49m\u001b[39mself\u001b[39;49m\u001b[39m.\u001b[39;49mthinning,\n\u001b[1;32m    413\u001b[0m     collection_size\u001b[39m=\u001b[39;49mcollection_size,\n\u001b[1;32m    414\u001b[0m     progbar_desc\u001b[39m=\u001b[39;49mpartial(_get_progbar_desc_str, lower_idx, phase),\n\u001b[1;32m    415\u001b[0m     diagnostics_fn\u001b[39m=\u001b[39;49mdiagnostics,\n\u001b[1;32m    416\u001b[0m     num_chains\u001b[39m=\u001b[39;49m\u001b[39mself\u001b[39;49m\u001b[39m.\u001b[39;49mnum_chains \u001b[39mif\u001b[39;49;00m \u001b[39mself\u001b[39;49m\u001b[39m.\u001b[39;49mchain_method \u001b[39m==\u001b[39;49m \u001b[39m\"\u001b[39;49m\u001b[39mparallel\u001b[39;49m\u001b[39m\"\u001b[39;49m \u001b[39melse\u001b[39;49;00m \u001b[39m1\u001b[39;49m,\n\u001b[1;32m    417\u001b[0m )\n\u001b[1;32m    418\u001b[0m states, last_val \u001b[39m=\u001b[39m collect_vals\n\u001b[1;32m    419\u001b[0m \u001b[39m# Get first argument of type `HMCState`\u001b[39;00m\n",
      "File \u001b[0;32m~/miniconda3/envs/chemevo/lib/python3.10/site-packages/numpyro/util.py:358\u001b[0m, in \u001b[0;36mfori_collect\u001b[0;34m(lower, upper, body_fun, init_val, transform, progbar, return_last_val, collection_size, thinning, **progbar_opts)\u001b[0m\n\u001b[1;32m    356\u001b[0m \u001b[39mwith\u001b[39;00m tqdm\u001b[39m.\u001b[39mtrange(upper) \u001b[39mas\u001b[39;00m t:\n\u001b[1;32m    357\u001b[0m     \u001b[39mfor\u001b[39;00m i \u001b[39min\u001b[39;00m t:\n\u001b[0;32m--> 358\u001b[0m         vals \u001b[39m=\u001b[39m jit(_body_fn)(i, vals)\n\u001b[1;32m    359\u001b[0m         t\u001b[39m.\u001b[39mset_description(progbar_desc(i), refresh\u001b[39m=\u001b[39m\u001b[39mFalse\u001b[39;00m)\n\u001b[1;32m    360\u001b[0m         \u001b[39mif\u001b[39;00m diagnostics_fn:\n",
      "    \u001b[0;31m[... skipping hidden 1 frame]\u001b[0m\n",
      "File \u001b[0;32m~/miniconda3/envs/chemevo/lib/python3.10/site-packages/jax/_src/pjit.py:238\u001b[0m, in \u001b[0;36m_cpp_pjit.<locals>.cache_miss\u001b[0;34m(*args, **kwargs)\u001b[0m\n\u001b[1;32m    236\u001b[0m \u001b[39m@api_boundary\u001b[39m\n\u001b[1;32m    237\u001b[0m \u001b[39mdef\u001b[39;00m \u001b[39mcache_miss\u001b[39m(\u001b[39m*\u001b[39margs, \u001b[39m*\u001b[39m\u001b[39m*\u001b[39mkwargs):\n\u001b[0;32m--> 238\u001b[0m   outs, out_flat, out_tree, args_flat \u001b[39m=\u001b[39m _python_pjit_helper(\n\u001b[1;32m    239\u001b[0m       fun, infer_params_fn, \u001b[39m*\u001b[39;49margs, \u001b[39m*\u001b[39;49m\u001b[39m*\u001b[39;49mkwargs)\n\u001b[1;32m    241\u001b[0m   executable \u001b[39m=\u001b[39m _read_most_recent_pjit_call_executable()\n\u001b[1;32m    243\u001b[0m   use_fastpath \u001b[39m=\u001b[39m (\n\u001b[1;32m    244\u001b[0m       executable \u001b[39mis\u001b[39;00m \u001b[39mnot\u001b[39;00m \u001b[39mNone\u001b[39;00m \u001b[39mand\u001b[39;00m\n\u001b[1;32m    245\u001b[0m       \u001b[39misinstance\u001b[39m(executable, pxla\u001b[39m.\u001b[39mMeshExecutable) \u001b[39mand\u001b[39;00m\n\u001b[0;32m   (...)\u001b[0m\n\u001b[1;32m    251\u001b[0m       \u001b[39mall\u001b[39m(\u001b[39misinstance\u001b[39m(x, xc\u001b[39m.\u001b[39mArrayImpl) \u001b[39mfor\u001b[39;00m x \u001b[39min\u001b[39;00m out_flat)\n\u001b[1;32m    252\u001b[0m   )\n",
      "File \u001b[0;32m~/miniconda3/envs/chemevo/lib/python3.10/site-packages/jax/_src/pjit.py:185\u001b[0m, in \u001b[0;36m_python_pjit_helper\u001b[0;34m(fun, infer_params_fn, *args, **kwargs)\u001b[0m\n\u001b[1;32m    183\u001b[0m   dispatch\u001b[39m.\u001b[39mcheck_arg(arg)\n\u001b[1;32m    184\u001b[0m \u001b[39mtry\u001b[39;00m:\n\u001b[0;32m--> 185\u001b[0m   out_flat \u001b[39m=\u001b[39m pjit_p\u001b[39m.\u001b[39;49mbind(\u001b[39m*\u001b[39;49margs_flat, \u001b[39m*\u001b[39;49m\u001b[39m*\u001b[39;49mparams)\n\u001b[1;32m    186\u001b[0m \u001b[39mexcept\u001b[39;00m pxla\u001b[39m.\u001b[39mDeviceAssignmentMismatchError \u001b[39mas\u001b[39;00m e:\n\u001b[1;32m    187\u001b[0m   fails, \u001b[39m=\u001b[39m e\u001b[39m.\u001b[39margs\n",
      "File \u001b[0;32m~/miniconda3/envs/chemevo/lib/python3.10/site-packages/jax/_src/core.py:2592\u001b[0m, in \u001b[0;36mAxisPrimitive.bind\u001b[0;34m(self, *args, **params)\u001b[0m\n\u001b[1;32m   2588\u001b[0m axis_main \u001b[39m=\u001b[39m \u001b[39mmax\u001b[39m((axis_frame(a)\u001b[39m.\u001b[39mmain_trace \u001b[39mfor\u001b[39;00m a \u001b[39min\u001b[39;00m used_axis_names(\u001b[39mself\u001b[39m, params)),\n\u001b[1;32m   2589\u001b[0m                 default\u001b[39m=\u001b[39m\u001b[39mNone\u001b[39;00m, key\u001b[39m=\u001b[39m\u001b[39mlambda\u001b[39;00m t: \u001b[39mgetattr\u001b[39m(t, \u001b[39m'\u001b[39m\u001b[39mlevel\u001b[39m\u001b[39m'\u001b[39m, \u001b[39m-\u001b[39m\u001b[39m1\u001b[39m))\n\u001b[1;32m   2590\u001b[0m top_trace \u001b[39m=\u001b[39m (top_trace \u001b[39mif\u001b[39;00m \u001b[39mnot\u001b[39;00m axis_main \u001b[39mor\u001b[39;00m axis_main\u001b[39m.\u001b[39mlevel \u001b[39m<\u001b[39m top_trace\u001b[39m.\u001b[39mlevel\n\u001b[1;32m   2591\u001b[0m              \u001b[39melse\u001b[39;00m axis_main\u001b[39m.\u001b[39mwith_cur_sublevel())\n\u001b[0;32m-> 2592\u001b[0m \u001b[39mreturn\u001b[39;00m \u001b[39mself\u001b[39;49m\u001b[39m.\u001b[39;49mbind_with_trace(top_trace, args, params)\n",
      "File \u001b[0;32m~/miniconda3/envs/chemevo/lib/python3.10/site-packages/jax/_src/core.py:363\u001b[0m, in \u001b[0;36mPrimitive.bind_with_trace\u001b[0;34m(self, trace, args, params)\u001b[0m\n\u001b[1;32m    362\u001b[0m \u001b[39mdef\u001b[39;00m \u001b[39mbind_with_trace\u001b[39m(\u001b[39mself\u001b[39m, trace, args, params):\n\u001b[0;32m--> 363\u001b[0m   out \u001b[39m=\u001b[39m trace\u001b[39m.\u001b[39;49mprocess_primitive(\u001b[39mself\u001b[39;49m, \u001b[39mmap\u001b[39;49m(trace\u001b[39m.\u001b[39;49mfull_raise, args), params)\n\u001b[1;32m    364\u001b[0m   \u001b[39mreturn\u001b[39;00m \u001b[39mmap\u001b[39m(full_lower, out) \u001b[39mif\u001b[39;00m \u001b[39mself\u001b[39m\u001b[39m.\u001b[39mmultiple_results \u001b[39melse\u001b[39;00m full_lower(out)\n",
      "File \u001b[0;32m~/miniconda3/envs/chemevo/lib/python3.10/site-packages/jax/_src/core.py:817\u001b[0m, in \u001b[0;36mEvalTrace.process_primitive\u001b[0;34m(self, primitive, tracers, params)\u001b[0m\n\u001b[1;32m    816\u001b[0m \u001b[39mdef\u001b[39;00m \u001b[39mprocess_primitive\u001b[39m(\u001b[39mself\u001b[39m, primitive, tracers, params):\n\u001b[0;32m--> 817\u001b[0m   \u001b[39mreturn\u001b[39;00m primitive\u001b[39m.\u001b[39;49mimpl(\u001b[39m*\u001b[39;49mtracers, \u001b[39m*\u001b[39;49m\u001b[39m*\u001b[39;49mparams)\n",
      "File \u001b[0;32m~/miniconda3/envs/chemevo/lib/python3.10/site-packages/jax/_src/pjit.py:1252\u001b[0m, in \u001b[0;36m_pjit_call_impl\u001b[0;34m(jaxpr, in_shardings, out_shardings, resource_env, donated_invars, name, keep_unused, inline, *args)\u001b[0m\n\u001b[1;32m   1246\u001b[0m   distributed_debug_log((\u001b[39m\"\u001b[39m\u001b[39mRunning pjit\u001b[39m\u001b[39m'\u001b[39m\u001b[39md function\u001b[39m\u001b[39m\"\u001b[39m, name),\n\u001b[1;32m   1247\u001b[0m                         (\u001b[39m\"\u001b[39m\u001b[39min_shardings\u001b[39m\u001b[39m\"\u001b[39m, in_shardings),\n\u001b[1;32m   1248\u001b[0m                         (\u001b[39m\"\u001b[39m\u001b[39mout_shardings\u001b[39m\u001b[39m\"\u001b[39m, out_shardings),\n\u001b[1;32m   1249\u001b[0m                         (\u001b[39m\"\u001b[39m\u001b[39mabstract args\u001b[39m\u001b[39m\"\u001b[39m, \u001b[39mmap\u001b[39m(xla\u001b[39m.\u001b[39mabstractify, args)),\n\u001b[1;32m   1250\u001b[0m                         (\u001b[39m\"\u001b[39m\u001b[39mfingerprint\u001b[39m\u001b[39m\"\u001b[39m, fingerprint))\n\u001b[1;32m   1251\u001b[0m \u001b[39mtry\u001b[39;00m:\n\u001b[0;32m-> 1252\u001b[0m   \u001b[39mreturn\u001b[39;00m compiled\u001b[39m.\u001b[39;49munsafe_call(\u001b[39m*\u001b[39;49margs)\n\u001b[1;32m   1253\u001b[0m \u001b[39mexcept\u001b[39;00m \u001b[39mFloatingPointError\u001b[39;00m:\n\u001b[1;32m   1254\u001b[0m   \u001b[39massert\u001b[39;00m config\u001b[39m.\u001b[39mjax_debug_nans \u001b[39mor\u001b[39;00m config\u001b[39m.\u001b[39mjax_debug_infs  \u001b[39m# compiled_fun can only raise in this case\u001b[39;00m\n",
      "File \u001b[0;32m~/miniconda3/envs/chemevo/lib/python3.10/site-packages/jax/_src/profiler.py:314\u001b[0m, in \u001b[0;36mannotate_function.<locals>.wrapper\u001b[0;34m(*args, **kwargs)\u001b[0m\n\u001b[1;32m    311\u001b[0m \u001b[39m@wraps\u001b[39m(func)\n\u001b[1;32m    312\u001b[0m \u001b[39mdef\u001b[39;00m \u001b[39mwrapper\u001b[39m(\u001b[39m*\u001b[39margs, \u001b[39m*\u001b[39m\u001b[39m*\u001b[39mkwargs):\n\u001b[1;32m    313\u001b[0m   \u001b[39mwith\u001b[39;00m TraceAnnotation(name, \u001b[39m*\u001b[39m\u001b[39m*\u001b[39mdecorator_kwargs):\n\u001b[0;32m--> 314\u001b[0m     \u001b[39mreturn\u001b[39;00m func(\u001b[39m*\u001b[39;49margs, \u001b[39m*\u001b[39;49m\u001b[39m*\u001b[39;49mkwargs)\n\u001b[1;32m    315\u001b[0m   \u001b[39mreturn\u001b[39;00m wrapper\n",
      "File \u001b[0;32m~/miniconda3/envs/chemevo/lib/python3.10/site-packages/jax/_src/interpreters/pxla.py:1916\u001b[0m, in \u001b[0;36mExecuteReplicated.__call__\u001b[0;34m(self, *args)\u001b[0m\n\u001b[1;32m   1911\u001b[0m   \u001b[39mself\u001b[39m\u001b[39m.\u001b[39m_handle_token_bufs(\n\u001b[1;32m   1912\u001b[0m       results\u001b[39m.\u001b[39mdisassemble_prefix_into_single_device_arrays(\n\u001b[1;32m   1913\u001b[0m           \u001b[39mlen\u001b[39m(\u001b[39mself\u001b[39m\u001b[39m.\u001b[39mordered_effects)),\n\u001b[1;32m   1914\u001b[0m       results\u001b[39m.\u001b[39mconsume_token())\n\u001b[1;32m   1915\u001b[0m \u001b[39melse\u001b[39;00m:\n\u001b[0;32m-> 1916\u001b[0m   results \u001b[39m=\u001b[39m \u001b[39mself\u001b[39;49m\u001b[39m.\u001b[39;49mxla_executable\u001b[39m.\u001b[39;49mexecute_sharded(input_bufs)\n\u001b[1;32m   1917\u001b[0m \u001b[39mif\u001b[39;00m dispatch\u001b[39m.\u001b[39mneeds_check_special():\n\u001b[1;32m   1918\u001b[0m   out_arrays \u001b[39m=\u001b[39m results\u001b[39m.\u001b[39mdisassemble_into_single_device_arrays()\n",
      "\u001b[0;31mKeyboardInterrupt\u001b[0m: "
     ]
    }
   ],
   "source": [
    "import jax\n",
    "import numpyro\n",
    "import numpyro.distributions as dist\n",
    "\n",
    "def model():\n",
    "    numpyro.sample(\"x\", dist.Normal(0, 1))\n",
    "\n",
    "# Compile the model function using JIT\n",
    "compiled_model = jax.jit(model)\n",
    "\n",
    "numpyro.set_platform(\"cpu\")\n",
    "samples = 1000\n",
    "num_warmup = 500\n",
    "nuts_kernel = numpyro.infer.NUTS(compiled_model)\n",
    "mcmc = numpyro.infer.MCMC(nuts_kernel, num_samples=samples, num_warmup=num_warmup)\n",
    "mcmc.run(jax.random.PRNGKey(0))"
   ]
  },
  {
   "cell_type": "code",
   "execution_count": 55,
   "metadata": {},
   "outputs": [
    {
     "name": "stdout",
     "output_type": "stream",
     "text": [
      "1 ms ± 57.3 µs per loop (mean ± std. dev. of 2 runs, 10 loops each)\n"
     ]
    }
   ],
   "source": [
    "%timeit -n 10 -r 2 logL_fn_TEST({'x':jnp.ones(200),'y':jnp.linspace(0.,1.,200)},{'y':jnp.ones(Nknots)}, jnp.linspace(0.,1.,Nknots))"
   ]
  }
 ],
 "metadata": {
  "kernelspec": {
   "display_name": "Python 3 (ipykernel)",
   "language": "python",
   "name": "python3"
  },
  "language_info": {
   "codemirror_mode": {
    "name": "ipython",
    "version": 3
   },
   "file_extension": ".py",
   "mimetype": "text/x-python",
   "name": "python",
   "nbconvert_exporter": "python",
   "pygments_lexer": "ipython3",
   "version": "3.10.5"
  },
  "orig_nbformat": 4
 },
 "nbformat": 4,
 "nbformat_minor": 2
}
